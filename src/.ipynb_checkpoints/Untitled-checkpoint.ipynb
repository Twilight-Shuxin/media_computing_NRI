{
 "cells": [
  {
   "cell_type": "code",
   "execution_count": 2,
   "id": "2e249f5f-5886-4b4a-a997-95153a209970",
   "metadata": {},
   "outputs": [],
   "source": [
    "import numpy as np"
   ]
  },
  {
   "cell_type": "code",
   "execution_count": 3,
   "id": "35d4d6c3-b198-4873-a90c-46dbb89455a9",
   "metadata": {},
   "outputs": [],
   "source": [
    "off_diag = np.ones([4, 4]) - np.eye(4)"
   ]
  },
  {
   "cell_type": "code",
   "execution_count": 4,
   "id": "a7e3c474-252f-4442-9e03-27115ff93b63",
   "metadata": {},
   "outputs": [
    {
     "data": {
      "text/plain": [
       "array([[0., 1., 1., 1.],\n",
       "       [1., 0., 1., 1.],\n",
       "       [1., 1., 0., 1.],\n",
       "       [1., 1., 1., 0.]])"
      ]
     },
     "execution_count": 4,
     "metadata": {},
     "output_type": "execute_result"
    }
   ],
   "source": [
    "off_diag"
   ]
  },
  {
   "cell_type": "code",
   "execution_count": 8,
   "id": "145cac6e-b324-48fe-a68e-f41645bc9d52",
   "metadata": {},
   "outputs": [
    {
     "data": {
      "text/plain": [
       "array([0, 0, 0, 1, 1, 1, 2, 2, 2, 3, 3, 3])"
      ]
     },
     "execution_count": 8,
     "metadata": {},
     "output_type": "execute_result"
    }
   ],
   "source": [
    "np.where(off_diag)[0]"
   ]
  },
  {
   "cell_type": "code",
   "execution_count": 9,
   "id": "dbf5d047-7761-4f47-8121-b41031e094fb",
   "metadata": {},
   "outputs": [],
   "source": [
    "def encode_onehot(labels):\n",
    "    classes = set(labels)\n",
    "    classes_dict = {c: np.identity(len(classes))[i, :] for i, c in\n",
    "                    enumerate(classes)}\n",
    "    labels_onehot = np.array(list(map(classes_dict.get, labels)),\n",
    "                             dtype=np.int32)\n",
    "    return labels_onehot"
   ]
  },
  {
   "cell_type": "code",
   "execution_count": 18,
   "id": "55584905-8cf4-41f6-8a42-ed198af82eef",
   "metadata": {},
   "outputs": [
    {
     "data": {
      "text/plain": [
       "array([[0, 1, 0, 0],\n",
       "       [0, 0, 1, 0],\n",
       "       [0, 0, 0, 1],\n",
       "       [1, 0, 0, 0],\n",
       "       [0, 0, 1, 0],\n",
       "       [0, 0, 0, 1],\n",
       "       [1, 0, 0, 0],\n",
       "       [0, 1, 0, 0],\n",
       "       [0, 0, 0, 1],\n",
       "       [1, 0, 0, 0],\n",
       "       [0, 1, 0, 0],\n",
       "       [0, 0, 1, 0]], dtype=int32)"
      ]
     },
     "execution_count": 18,
     "metadata": {},
     "output_type": "execute_result"
    }
   ],
   "source": [
    "encode_onehot(np.where(off_diag)[1])"
   ]
  },
  {
   "cell_type": "code",
   "execution_count": 17,
   "id": "d743c6b3-b263-4448-8abe-234a4c5b693e",
   "metadata": {},
   "outputs": [
    {
     "data": {
      "text/plain": [
       "{0: array([1., 0., 0., 0.]),\n",
       " 1: array([0., 1., 0., 0.]),\n",
       " 2: array([0., 0., 1., 0.]),\n",
       " 3: array([0., 0., 0., 1.])}"
      ]
     },
     "execution_count": 17,
     "metadata": {},
     "output_type": "execute_result"
    }
   ],
   "source": [
    "classes = set(np.where(off_diag)[0])\n",
    "\n",
    "classes_dict = {c: np.identity(len(classes))[i, :] for i, c in\n",
    "                    enumerate(classes)}\n",
    "classes_dict"
   ]
  },
  {
   "cell_type": "code",
   "execution_count": 14,
   "id": "d1c31a53-b2f4-47a2-8034-fa0ea0338be1",
   "metadata": {},
   "outputs": [
    {
     "name": "stdout",
     "output_type": "stream",
     "text": [
      "0 0\n",
      "1 1\n",
      "2 2\n",
      "3 3\n"
     ]
    }
   ],
   "source": [
    "for i, c in enumerate(set(np.where(off_diag)[0])):\n",
    "    print(i,c)"
   ]
  },
  {
   "cell_type": "code",
   "execution_count": null,
   "id": "22f6d3c7-66bd-4bd5-a784-2fcfbb4df421",
   "metadata": {},
   "outputs": [],
   "source": []
  }
 ],
 "metadata": {
  "kernelspec": {
   "display_name": "default:Python",
   "language": "python",
   "name": "conda-env-default-py"
  },
  "language_info": {
   "codemirror_mode": {
    "name": "ipython",
    "version": 3
   },
   "file_extension": ".py",
   "mimetype": "text/x-python",
   "name": "python",
   "nbconvert_exporter": "python",
   "pygments_lexer": "ipython3",
   "version": "3.9.10"
  }
 },
 "nbformat": 4,
 "nbformat_minor": 5
}
